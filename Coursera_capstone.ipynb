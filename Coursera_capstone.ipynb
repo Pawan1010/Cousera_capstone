{
  "nbformat": 4,
  "nbformat_minor": 0,
  "metadata": {
    "colab": {
      "name": "Untitled1.ipynb",
      "provenance": [],
      "authorship_tag": "ABX9TyORn1TQ8WInyqwlyrYxx8PJ",
      "include_colab_link": true
    },
    "kernelspec": {
      "name": "python3",
      "display_name": "Python 3"
    }
  },
  "cells": [
    {
      "cell_type": "markdown",
      "metadata": {
        "id": "view-in-github",
        "colab_type": "text"
      },
      "source": [
        "<a href=\"https://colab.research.google.com/github/Pawan1010/Cousera_capstone/blob/master/Coursera_capstone.ipynb\" target=\"_parent\"><img src=\"https://colab.research.google.com/assets/colab-badge.svg\" alt=\"Open In Colab\"/></a>"
      ]
    },
    {
      "cell_type": "markdown",
      "metadata": {
        "id": "pnHDulyQ9r4N",
        "colab_type": "text"
      },
      "source": [
        " # Coursera-Capstone<br>\n",
        "### Here I will be creating repository in github account with simple code"
      ]
    },
    {
      "cell_type": "code",
      "metadata": {
        "id": "nFdh3og592_H",
        "colab_type": "code",
        "colab": {}
      },
      "source": [
        "import pandas as pd\n",
        "import numpy as np"
      ],
      "execution_count": 0,
      "outputs": []
    },
    {
      "cell_type": "code",
      "metadata": {
        "id": "J_Co24lK-UPJ",
        "colab_type": "code",
        "colab": {
          "base_uri": "https://localhost:8080/",
          "height": 34
        },
        "outputId": "30f2e04c-52ef-46e6-912d-3ed2290a4beb"
      },
      "source": [
        "print('Hello Capstone Project!')"
      ],
      "execution_count": 8,
      "outputs": [
        {
          "output_type": "stream",
          "text": [
            "Hello Capstone Project!\n"
          ],
          "name": "stdout"
        }
      ]
    }
  ]
}